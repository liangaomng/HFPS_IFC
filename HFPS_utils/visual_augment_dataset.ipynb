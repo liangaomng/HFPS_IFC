{
 "cells": [
  {
   "cell_type": "markdown",
   "metadata": {},
   "source": [
    "## just for visual augment dataset"
   ]
  },
  {
   "cell_type": "code",
   "execution_count": 2,
   "metadata": {},
   "outputs": [],
   "source": [
    "train_dataset = \"../Dataset/225_cases/Train_augment_1350_cases.npz\""
   ]
  },
  {
   "cell_type": "code",
   "execution_count": 3,
   "metadata": {},
   "outputs": [
    {
     "name": "stdout",
     "output_type": "stream",
     "text": [
      "raw_data_numpy torch.Size([1350, 80, 64, 100])\n"
     ]
    }
   ],
   "source": [
    "import numpy as np \n",
    "from  Hfps_dataset import HFPS_Dataset\n",
    "# load npz\n",
    "data = np.load(train_dataset)\n",
    "# 访问保存的数组\n",
    "tensor = data['tensor']\n",
    "condition = data['Condition']\n",
    "# 使用完数据后，确保关闭文件\n",
    "data.close()\n",
    "N = 10\n",
    "slice_time = 1\n",
    "dataset = HFPS_Dataset(data_numpy = tensor,\n",
    "                       class_list = condition,\n",
    "                       N_steps = N, slice_time = slice_time) "
   ]
  },
  {
   "cell_type": "code",
   "execution_count": 22,
   "metadata": {},
   "outputs": [],
   "source": [
    "x0 = dataset[0]\n",
    "x100 = dataset[100]"
   ]
  },
  {
   "cell_type": "code",
   "execution_count": 11,
   "metadata": {},
   "outputs": [
    {
     "data": {
      "text/plain": [
       "torch.Size([10, 64, 100])"
      ]
     },
     "execution_count": 11,
     "metadata": {},
     "output_type": "execute_result"
    }
   ],
   "source": [
    "x0[0].shape"
   ]
  },
  {
   "cell_type": "code",
   "execution_count": 12,
   "metadata": {},
   "outputs": [
    {
     "data": {
      "text/plain": [
       "tensor([0.0000e+00, 1.0000e+01, 1.0000e-01, 2.0100e+02], dtype=torch.float64)"
      ]
     },
     "execution_count": 12,
     "metadata": {},
     "output_type": "execute_result"
    }
   ],
   "source": [
    "x0[1]"
   ]
  }
 ],
 "metadata": {
  "kernelspec": {
   "display_name": "base",
   "language": "python",
   "name": "python3"
  },
  "language_info": {
   "codemirror_mode": {
    "name": "ipython",
    "version": 3
   },
   "file_extension": ".py",
   "mimetype": "text/x-python",
   "name": "python",
   "nbconvert_exporter": "python",
   "pygments_lexer": "ipython3",
   "version": "3.8.10"
  }
 },
 "nbformat": 4,
 "nbformat_minor": 2
}
