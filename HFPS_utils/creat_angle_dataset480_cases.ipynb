{
 "cells": [
  {
   "cell_type": "markdown",
   "metadata": {},
   "source": [
    "### We need to select the middle position of cylinder cases and augment it\n",
    "### Observation window [100*64] in middle\n",
    "### [0,10,20,30,40,50] --6\n",
    "### 36 x 15 = 540"
   ]
  },
  {
   "cell_type": "code",
   "execution_count": null,
   "metadata": {},
   "outputs": [],
   "source": [
    "import numpy as np"
   ]
  },
  {
   "cell_type": "code",
   "execution_count": null,
   "metadata": {},
   "outputs": [],
   "source": [
    "cases_36 = np.load(\"/root/autodl-tmp/HSPS/IFC/Dataset/36_cases/36_cases_0321.npz\")"
   ]
  },
  {
   "cell_type": "code",
   "execution_count": null,
   "metadata": {},
   "outputs": [],
   "source": [
    "cases_36.files"
   ]
  },
  {
   "cell_type": "code",
   "execution_count": null,
   "metadata": {},
   "outputs": [],
   "source": [
    "cases_36[\"Condition\"].shape"
   ]
  },
  {
   "cell_type": "code",
   "execution_count": null,
   "metadata": {},
   "outputs": [],
   "source": [
    "cases_36[\"Condition\"][0]"
   ]
  },
  {
   "cell_type": "code",
   "execution_count": null,
   "metadata": {},
   "outputs": [],
   "source": [
    "import matplotlib.pyplot as plt\n",
    "\n",
    "plt.imshow(cases_36[\"tensor\"][0,0,:,:],cmap=\"jet\")"
   ]
  },
  {
   "cell_type": "code",
   "execution_count": null,
   "metadata": {},
   "outputs": [],
   "source": [
    "import numpy as np\n",
    "import matplotlib.pyplot as plt\n",
    "from scipy.ndimage import rotate\n",
    "\n",
    "# 假设你的大矩形数据是 [100, 128, 512]，其中 100 是时间\n",
    "# 这里我们模拟一个随机矩阵来代表这个数据\n",
    "x_center, y_center = 256, 64  # (x, y) 是中心坐标\n",
    "observation_width, observation_height = 100, 64\n",
    "# 获取黄色区域的边界\n",
    "x_min = x_center - observation_width // 2\n",
    "x_max = x_center + observation_width // 2\n",
    "y_min = y_center - observation_height // 2\n",
    "y_max = y_center + observation_height // 2\n",
    "\n",
    "def Rotate_cases(data,angle=-10):\n",
    "    '''\n",
    "        逆时针\n",
    "        input: data:[t,128,512]\n",
    "        output: ob_data:[t,64,100]\n",
    "    '''\n",
    "    # 中间黄色区域的中心位置，假设黄色区域大小是 100x64\n",
    "    \n",
    "   \n",
    "    # 复制原始数据，保留黄色区域\n",
    "    rotated_data = data.copy()\n",
    "\n",
    "    for t in range(data.shape[0]):  # 逐个时间步\n",
    "        # 逐个处理每个时间步的数据（128x512）\n",
    "        image = data[t]  # 取出某个时间步的数据\n",
    "        \n",
    "        # 对外部区域进行旋转\n",
    "        rotated_image = rotate(image, angle, reshape=False, mode='constant')\n",
    "\n",
    "        # 更新旋转后的数据\n",
    "        rotated_data[t] = rotated_image\n",
    "    \n",
    "    extracted_region = rotated_data[:, y_min:y_max, x_min:x_max]\n",
    "    return extracted_region"
   ]
  },
  {
   "cell_type": "code",
   "execution_count": null,
   "metadata": {},
   "outputs": [],
   "source": [
    "Angle_list= [0,-10,-20,-30,-40,-50]"
   ]
  },
  {
   "cell_type": "code",
   "execution_count": null,
   "metadata": {},
   "outputs": [],
   "source": [
    "## Augment cases\n",
    "\n",
    "data = cases_36[\"tensor\"]\n",
    "case_numbers = cases_36[\"tensor\"].shape[0]\n",
    "\n",
    "Augment_tensor = np.zeros((36*6,80,64,100))\n",
    "Augment_conditions = np.zeros((36*6,4))\n",
    "case_n =0\n",
    "for case_number in range(case_numbers):\n",
    "   data = cases_36[\"tensor\"][case_number]\n",
    "   case_condition = cases_36[\"Condition\"][case_number][-3:]\n",
    "   \n",
    "   for angle in Angle_list:\n",
    "      \n",
    "      Augment_conditions[case_n,-3:] = case_condition \n",
    "      Augment_conditions[case_n,0] = angle\n",
    "      \n",
    "      Augment_tensor[case_n] = Rotate_cases(data,angle)\n",
    "      case_n = case_n+1\n",
    "      print(\"case_n\",case_n)"
   ]
  },
  {
   "cell_type": "code",
   "execution_count": 70,
   "metadata": {},
   "outputs": [
    {
     "name": "stderr",
     "output_type": "stream",
     "text": [
      "/tmp/ipykernel_5915/1549858860.py:29: DeprecationWarning: Starting with ImageIO v3 the behavior of this function will switch to that of iio.v3.imread. To keep the current behavior (and make this warning disappear) use `import imageio.v2 as imageio` or call `imageio.v2.imread` directly.\n",
      "  image = imageio.imread('temp.png')\n",
      "IMAGEIO FFMPEG_WRITER WARNING: input image is not divisible by macro_block_size=16, resizing from (1548, 1130) to (1552, 1136) to ensure video compatibility with most codecs and players. To prevent resizing, make your input image divisible by the macro_block_size or set the macro_block_size to 1 (risking incompatibility).\n"
     ]
    },
    {
     "name": "stdout",
     "output_type": "stream",
     "text": [
      "GIF saved as augmented_data.mp4\n"
     ]
    }
   ],
   "source": [
    "import imageio\n",
    "import numpy as np\n",
    "import matplotlib.pyplot as plt\n",
    "\n",
    "# Assuming Augment_tensor has dimensions [time_steps, height, width] for simplicity\n",
    "# If your actual dimensions include more (like batches), you'll need to adjust the indexing accordingly.\n",
    "\n",
    "# Set the filename for the GIF\n",
    "filename = 'augmented_data.mp4'\n",
    "\n",
    "# Create a writer object from imageio to write GIF with a specific duration per frame\n",
    "writer = imageio.get_writer(filename, fps=5)  # frames per second\n",
    "b = -1\n",
    "# Iterate through each time step\n",
    "for t in range(Augment_tensor.shape[1]):\n",
    "    # Create a figure\n",
    "    fig, ax = plt.subplots()\n",
    "    # Display the image\n",
    "    im = ax.imshow(Augment_tensor[b,t, :, :], cmap='viridis')\n",
    "    ax.set_title(f\"Angle: {Augment_conditions[b, 0]},D:{2*Augment_conditions[b, 1]*0.00195:.2f}(m)\\n\\\n",
    "                 Speed:{Augment_conditions[b,2]}(m/s),Time:{(Augment_conditions[b,3]+t)*0.05:.3f}(s)\")\n",
    "    ax.axis('off')  # Turn off axis\n",
    "\n",
    "    # Save the plot to a buffer instead of displaying\n",
    "    plt.savefig('temp.png', bbox_inches='tight',dpi=300)\n",
    "    plt.close()\n",
    "\n",
    "    # Read the image back in\n",
    "    image = imageio.imread('temp.png')\n",
    "    # Append the image to the GIF\n",
    "    writer.append_data(image)\n",
    "\n",
    "# Close the writer to finish writing the GIF\n",
    "writer.close()\n",
    "\n",
    "# Remove the temporary image file\n",
    "import os\n",
    "os.remove('temp.png')\n",
    "\n",
    "print(f\"GIF saved as {filename}\")\n"
   ]
  },
  {
   "cell_type": "code",
   "execution_count": 71,
   "metadata": {},
   "outputs": [],
   "source": [
    "np.savez(\"216_cases_augment_0321.npz\", tensor=Augment_tensor, Condition=Augment_conditions)"
   ]
  }
 ],
 "metadata": {
  "kernelspec": {
   "display_name": "base",
   "language": "python",
   "name": "python3"
  },
  "language_info": {
   "codemirror_mode": {
    "name": "ipython",
    "version": 3
   },
   "file_extension": ".py",
   "mimetype": "text/x-python",
   "name": "python",
   "nbconvert_exporter": "python",
   "pygments_lexer": "ipython3",
   "version": "3.8.10"
  }
 },
 "nbformat": 4,
 "nbformat_minor": 2
}
