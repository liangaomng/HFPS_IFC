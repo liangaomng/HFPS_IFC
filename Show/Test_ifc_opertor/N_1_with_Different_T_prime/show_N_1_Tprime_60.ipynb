{
 "cells": [
  {
   "cell_type": "code",
   "execution_count": null,
   "metadata": {},
   "outputs": [],
   "source": [
    "import sys\n",
    "import os\n",
    "import pickle\n",
    "sys.path.append(\"/root/autodl-tmp/HSPS/IFC/\")\n",
    "# pkl\n",
    "path = '/root/autodl-tmp/HSPS/IFC/Checkpoints/Operator/Multi-task/IFC_Opertor_N_1_Tprime_30.pkl'\n"
   ]
  },
  {
   "cell_type": "code",
   "execution_count": null,
   "metadata": {},
   "outputs": [],
   "source": [
    "from Test.test import Test_method\n",
    "t_method = Test_method(checkpoint_path= path,\n",
    "                       task= [0,1,2,3])"
   ]
  },
  {
   "cell_type": "code",
   "execution_count": null,
   "metadata": {},
   "outputs": [],
   "source": [
    "i=0\n",
    "for data, conditions, label in t_method.loader:\n",
    "   i = i+1\n",
    "   print(data.shape)\n",
    "   print(label.shape)\n",
    "   if i ==2:\n",
    "      break"
   ]
  },
  {
   "cell_type": "code",
   "execution_count": null,
   "metadata": {},
   "outputs": [],
   "source": [
    "all_latents = []\n",
    "all_latent_labels = []\n"
   ]
  },
  {
   "cell_type": "code",
   "execution_count": null,
   "metadata": {},
   "outputs": [],
   "source": [
    "\n",
    "model = t_method.model\n",
    "         \n",
    "for data, conditions, label in t_method.loader:\n",
    "   data = data.cuda()\n",
    "   outputs = model(data)\n",
    "   latent = model.latent  # [b, 512]\n",
    "   for i in t_method.classifers:\n",
    "      pass\n",
    "\n",
    "   # 👇 收集 latent（合适位置写入，不要只在一个 classifier 内部收）\n",
    "   all_latents.append(latent.detach().cpu().numpy())           # [B, 512]\n",
    "   all_latent_labels.append(label.detach().cpu().numpy())      # [B, num_classifiers]\n"
   ]
  },
  {
   "cell_type": "code",
   "execution_count": null,
   "metadata": {},
   "outputs": [],
   "source": [
    "import numpy as np\n",
    "\n",
    "all_latents = np.concatenate(all_latents, axis=0)  # [N, 512]\n",
    "all_latent_labels = np.concatenate(all_latent_labels, axis=0)  # [N, 4]\n"
   ]
  },
  {
   "cell_type": "code",
   "execution_count": null,
   "metadata": {},
   "outputs": [],
   "source": [
    "all_latents.shape"
   ]
  },
  {
   "cell_type": "code",
   "execution_count": null,
   "metadata": {},
   "outputs": [],
   "source": [
    "import umap.umap_ as umap\n",
    "import matplotlib.pyplot as plt\n",
    "import numpy as np\n",
    "\n",
    "# UMAP 降维\n",
    "reducer = umap.UMAP(n_components=2, random_state=42)\n",
    "embedding = reducer.fit_transform(all_latents)  # [N, 2]\n",
    "\n",
    "# 设置子图\n",
    "fig, axes = plt.subplots(2, 2, figsize=(12, 10))  # 2行2列共4个子图\n",
    "axes = axes.ravel()  # 展平为一维数组，方便索引\n",
    "\n",
    "Classifer_name = [\"velocity\",\"angle\",\"size\",\"How long ago\"]\n",
    "# 分类器标签的列数 = 4\n",
    "for i in range(4):\n",
    "    ax = axes[i]\n",
    "    labels = all_latent_labels[:, i]  # 第i个分类器对应的标签\n",
    "    scatter = ax.scatter(embedding[:, 0], embedding[:, 1], c=labels, cmap='tab10', s=30)\n",
    "    ax.set_title(f\"UMAP of Latent Vectors for C{i+1} {Classifer_name[i]}\")\n",
    "    ax.set_xlabel(\"UMAP-1\")\n",
    "    ax.set_ylabel(\"UMAP-2\")\n",
    "    fig.colorbar(scatter, ax=ax)\n",
    "\n",
    "plt.tight_layout()\n",
    "plt.show()\n"
   ]
  }
 ],
 "metadata": {
  "kernelspec": {
   "display_name": "base",
   "language": "python",
   "name": "python3"
  },
  "language_info": {
   "codemirror_mode": {
    "name": "ipython",
    "version": 3
   },
   "file_extension": ".py",
   "mimetype": "text/x-python",
   "name": "python",
   "nbconvert_exporter": "python",
   "pygments_lexer": "ipython3",
   "version": "3.8.10"
  }
 },
 "nbformat": 4,
 "nbformat_minor": 4
}
