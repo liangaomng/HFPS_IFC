{
 "cells": [
  {
   "cell_type": "code",
   "execution_count": null,
   "metadata": {},
   "outputs": [],
   "source": [
    "import sys\n",
    "import os\n",
    "import pickle\n",
    "sys.path.append(\"/root/autodl-tmp/HSPS/IFC/\")\n",
    "# pkl\n",
    "path = '/root/autodl-tmp/HSPS/IFC/Checkpoints/Operator/IFC_Opertor_N_1_Tprime_10.pkl'"
   ]
  },
  {
   "cell_type": "code",
   "execution_count": null,
   "metadata": {},
   "outputs": [],
   "source": [
    "import torch\n",
    "torch.cuda.empty_cache()\n"
   ]
  },
  {
   "cell_type": "code",
   "execution_count": null,
   "metadata": {},
   "outputs": [],
   "source": [
    "\n",
    "# load\n",
    "with open(path, 'rb') as file:\n",
    "    loaded_object = pickle.load(file)\n",
    "\n"
   ]
  },
  {
   "cell_type": "code",
   "execution_count": null,
   "metadata": {},
   "outputs": [],
   "source": [
    "model = loaded_object.best_model\n",
    "\n",
    "loaded_object.prepare_dataset(train_path= loaded_object.config[\"Data_In\"][\"train_path\"],\n",
    "                              test_path =loaded_object.config[\"Data_In\"][\"test_path\"] )"
   ]
  },
  {
   "cell_type": "code",
   "execution_count": null,
   "metadata": {},
   "outputs": [],
   "source": [
    "import matplotlib.pyplot as plt\n",
    "plt.plot(loaded_object.valid_loss,label=\"valid\")\n",
    "plt.plot(loaded_object.train_loss,label=\"train\")\n",
    "plt.yscale('log')\n",
    "\n",
    "# Adding labels and title for clarity\n",
    "plt.xlabel('Epochs')\n",
    "plt.ylabel('Loss')\n",
    "plt.title('Training and Validation Loss')"
   ]
  },
  {
   "cell_type": "code",
   "execution_count": null,
   "metadata": {},
   "outputs": [],
   "source": [
    "dataloader = loaded_object.test_loader"
   ]
  },
  {
   "cell_type": "code",
   "execution_count": null,
   "metadata": {},
   "outputs": [],
   "source": [
    "import torch\n",
    "import matplotlib.pyplot as plt\n",
    "import numpy as np\n",
    "from sklearn.manifold import TSNE\n",
    "\n",
    "# 假设dataloader、model已经定义\n",
    "\n",
    "MC_test = 50 # 50  big for uncertanity \n",
    "MC_test_DICT= {\"C1\":[],\"C2\":[],\"C3\":[],\"C4\":[]}\n",
    "mc = 100 # for the T prime mc\n",
    "model = model.train()\n",
    "for Mc in range (MC_test):\n",
    "    predictions = [[] for _ in range(4)]  # 为每个分类器预先创建列表\n",
    "    true_labels_list = [[] for _ in range(4)]  # 修改变量名以避免冲突\n",
    "    with torch.no_grad():\n",
    "        for mc in range(50): # T_prime\n",
    "            for data, conditions, label in dataloader:\n",
    "                data = data.cuda()\n",
    "                outputs = model(data)\n",
    "                latent = model.latent  # [b, 512]\n",
    "\n",
    "                for i in range(4):  # calssifer -4 \n",
    "                    _, predicted = torch.max(outputs[:, i, :], 1)  # 获取最大值的索引作为预测类别\n",
    "                    predictions[i].extend(predicted.cpu().numpy())\n",
    "                    true_labels_list[i].extend(label[:, i].cpu().numpy())\n",
    "\n",
    "        # 绘制每个分类器的预测结果的柱状图\n",
    "        num_classifiers = len(predictions)\n",
    "        #fig, axes = plt.subplots(num_classifiers, 2, figsize=(12, num_classifiers * 5))  # 增加图的宽度以更好地展示\n",
    "\n",
    "        for i in range(num_classifiers):\n",
    "            # ax_pred = axes[i, 0]\n",
    "            # ax_true = axes[i, 1]\n",
    "        \n",
    "            # # 预测结果的柱状图\n",
    "            # pred_labels, pred_counts = np.unique(predictions[i], return_counts=True)\n",
    "            # ax_pred.bar(pred_labels, pred_counts, color='blue', alpha=0.7)\n",
    "            \n",
    "            # ax_pred.set_xlabel('Predicted Classes')\n",
    "            # ax_pred.set_ylabel('Frequency')\n",
    "\n",
    "            # # 真实标签的柱状图\n",
    "            # true_labels, true_counts = np.unique(true_labels_list[i], return_counts=True)\n",
    "            # ax_true.bar(true_labels, true_counts, color='green', alpha=0.7)\n",
    "            # ax_true.set_title(f'Classifier {i+1} True')\n",
    "            # ax_true.set_xlabel('True Classes')\n",
    "            # ax_true.set_ylabel('Frequency')\n",
    "            #将列表转换为NumPy数组以便更容易地进行运算\n",
    "            preds = np.array(predictions[i])\n",
    "            labels = np.array(true_labels_list[i])\n",
    "            \n",
    "            # 计算准确率\n",
    "            accuracy = np.mean(preds == labels) * 100\n",
    "            #ax_pred.set_title(f'Classifier {i+1} Predicted acc is {accuracy:.2f}%')\n",
    "            MC_test_DICT[f\"C{i+1}\"].append(accuracy)\n",
    "            print(f'In MC {Mc}Classifier {i+1} Predicted acc is {accuracy:.2f}')\n",
    "        # plt.tight_layout()\n",
    "        # plt.show()\n"
   ]
  },
  {
   "cell_type": "code",
   "execution_count": null,
   "metadata": {},
   "outputs": [],
   "source": [
    "import numpy as np\n",
    "\n",
    "for i in range(4):  # 对于每个分类器\n",
    "   mean = np.mean(MC_test_DICT[f\"C{i+1}\"]) # Uncertainty\n",
    "   std = np.std(MC_test_DICT[f\"C{i+1}\"]) # Uncertainty\n",
    "   \n",
    "   print(f'Classifier {i+1} Accuracy: {mean:.4f} std:{std}')\n"
   ]
  },
  {
   "cell_type": "code",
   "execution_count": null,
   "metadata": {},
   "outputs": [],
   "source": [
    "import torch\n",
    "torch.cuda.empty_cache()\n"
   ]
  }
 ],
 "metadata": {
  "kernelspec": {
   "display_name": "base",
   "language": "python",
   "name": "python3"
  },
  "language_info": {
   "codemirror_mode": {
    "name": "ipython",
    "version": 3
   },
   "file_extension": ".py",
   "mimetype": "text/x-python",
   "name": "python",
   "nbconvert_exporter": "python",
   "pygments_lexer": "ipython3",
   "version": "3.8.10"
  }
 },
 "nbformat": 4,
 "nbformat_minor": 2
}
